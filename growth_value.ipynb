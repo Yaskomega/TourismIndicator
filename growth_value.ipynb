{
 "cells": [
  {
   "cell_type": "markdown",
   "metadata": {},
   "source": [
    "# Libraries"
   ]
  },
  {
   "cell_type": "code",
   "execution_count": 2,
   "metadata": {},
   "outputs": [],
   "source": [
    "import pandas as pd\n",
    "import seaborn as sns\n",
    "import matplotlib.pyplot as plt\n",
    "import numpy as np\n",
    "import os"
   ]
  },
  {
   "cell_type": "markdown",
   "metadata": {},
   "source": [
    "# Dataset"
   ]
  },
  {
   "cell_type": "code",
   "execution_count": 3,
   "metadata": {},
   "outputs": [
    {
     "data": {
      "text/html": [
       "<div>\n",
       "<style scoped>\n",
       "    .dataframe tbody tr th:only-of-type {\n",
       "        vertical-align: middle;\n",
       "    }\n",
       "\n",
       "    .dataframe tbody tr th {\n",
       "        vertical-align: top;\n",
       "    }\n",
       "\n",
       "    .dataframe thead th {\n",
       "        text-align: right;\n",
       "    }\n",
       "</style>\n",
       "<table border=\"1\" class=\"dataframe\">\n",
       "  <thead>\n",
       "    <tr style=\"text-align: right;\">\n",
       "      <th></th>\n",
       "      <th>id</th>\n",
       "      <th>nom</th>\n",
       "      <th>nbAvis</th>\n",
       "      <th>latitude</th>\n",
       "      <th>longitude</th>\n",
       "      <th>shape_gid</th>\n",
       "      <th>gtrip</th>\n",
       "    </tr>\n",
       "  </thead>\n",
       "  <tbody>\n",
       "    <tr>\n",
       "      <th>0</th>\n",
       "      <td>265114</td>\n",
       "      <td>Au Rond-Point Pistes</td>\n",
       "      <td>3</td>\n",
       "      <td>45.414890</td>\n",
       "      <td>6.631468</td>\n",
       "      <td>53660</td>\n",
       "      <td>196714</td>\n",
       "    </tr>\n",
       "    <tr>\n",
       "      <th>1</th>\n",
       "      <td>2038947</td>\n",
       "      <td>le p  tit drink</td>\n",
       "      <td>18</td>\n",
       "      <td>45.415930</td>\n",
       "      <td>6.635808</td>\n",
       "      <td>53660</td>\n",
       "      <td>187262</td>\n",
       "    </tr>\n",
       "    <tr>\n",
       "      <th>2</th>\n",
       "      <td>219808</td>\n",
       "      <td>Courcheneige</td>\n",
       "      <td>184</td>\n",
       "      <td>45.404945</td>\n",
       "      <td>6.633761</td>\n",
       "      <td>53660</td>\n",
       "      <td>187262</td>\n",
       "    </tr>\n",
       "    <tr>\n",
       "      <th>3</th>\n",
       "      <td>219805</td>\n",
       "      <td>Le Chabichou</td>\n",
       "      <td>167</td>\n",
       "      <td>45.416412</td>\n",
       "      <td>6.628457</td>\n",
       "      <td>53660</td>\n",
       "      <td>187262</td>\n",
       "    </tr>\n",
       "    <tr>\n",
       "      <th>4</th>\n",
       "      <td>293193</td>\n",
       "      <td>Hotel Des Neiges</td>\n",
       "      <td>75</td>\n",
       "      <td>45.415100</td>\n",
       "      <td>6.633700</td>\n",
       "      <td>53660</td>\n",
       "      <td>187262</td>\n",
       "    </tr>\n",
       "  </tbody>\n",
       "</table>\n",
       "</div>"
      ],
      "text/plain": [
       "        id                   nom  nbAvis   latitude  longitude  shape_gid  \\\n",
       "0   265114  Au Rond-Point Pistes       3  45.414890   6.631468      53660   \n",
       "1  2038947       le p  tit drink      18  45.415930   6.635808      53660   \n",
       "2   219808          Courcheneige     184  45.404945   6.633761      53660   \n",
       "3   219805          Le Chabichou     167  45.416412   6.628457      53660   \n",
       "4   293193      Hotel Des Neiges      75  45.415100   6.633700      53660   \n",
       "\n",
       "    gtrip  \n",
       "0  196714  \n",
       "1  187262  \n",
       "2  187262  \n",
       "3  187262  \n",
       "4  187262  "
      ]
     },
     "execution_count": 3,
     "metadata": {},
     "output_type": "execute_result"
    }
   ],
   "source": [
    "df_places = pd.read_csv('./places_courchevel.csv')\n",
    "df_places.head()"
   ]
  },
  {
   "cell_type": "code",
   "execution_count": 10,
   "metadata": {},
   "outputs": [],
   "source": [
    "from datetime import datetime"
   ]
  },
  {
   "cell_type": "code",
   "execution_count": null,
   "metadata": {},
   "outputs": [],
   "source": [
    "year = 2003\n",
    "month = 7\n",
    "day = 4\n",
    "#date_from = datetime.strptime(str(year)+'-'+str(month)+'-'+str(day), '%Y-%m-%d')\n",
    "#date_to = add_one_month(date_from)"
   ]
  }
 ],
 "metadata": {
  "kernelspec": {
   "display_name": "Python 3",
   "language": "python",
   "name": "python3"
  },
  "language_info": {
   "codemirror_mode": {
    "name": "ipython",
    "version": 3
   },
   "file_extension": ".py",
   "mimetype": "text/x-python",
   "name": "python",
   "nbconvert_exporter": "python",
   "pygments_lexer": "ipython3",
   "version": "3.7.0"
  }
 },
 "nbformat": 4,
 "nbformat_minor": 2
}
